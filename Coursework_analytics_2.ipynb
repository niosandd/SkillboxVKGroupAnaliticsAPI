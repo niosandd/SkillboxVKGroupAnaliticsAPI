{
 "cells": [
  {
   "cell_type": "markdown",
   "metadata": {
    "id": "Fd3_VqqaHVAN"
   },
   "source": [
    "# Курсовая работа № 2\n",
    "## Аналитика. Начальный уровень\n",
    "\n",
    "Курсовая работа состоит из двух частей – обязательной и дополнительной. **Для зачета необходимо выполнение только первой части.** Выполнение второй части может потребовать дополнительные знания Python.\n",
    "\n",
    "- [Часть первая](#Часть-первая)\n",
    "- [Часть вторая](#Часть-вторая)"
   ]
  },
  {
   "cell_type": "markdown",
   "metadata": {
    "id": "v_LX23K6HVAQ"
   },
   "source": [
    "## Часть первая\n",
    "\n",
    "\n",
    "Перед вами стоит задача – подготовить аналитический отчет для HR-отдела. На основании проведенной аналитики предполагается составить рекомендации для отдела кадров по стратегии набора персонала, а также по взаимодействию с уже имеющимися сотрудниками.\n",
    "<br><br> В базе данных лежит набор таблиц, которые содержат данные о сотрудниках вымышленной компании.\n",
    "Сделайте обзор штата сотрудников компании. Составьте набор предметов исследования, а затем проверьте их на данных. Вся аналитика должна быть выполена с помощью SQL. Впоследствии данные можно визуализировать, однако финальные датафреймы для графиков также должны быть подготовлены с помощью SQL. <br><br>\n",
    "\n",
    "Примеры гипотез:\n",
    "1. Есть зависимость между `perfomance score` и тем, под чьим руководством работает сотрудник.\n",
    "2. Есть зависимость между продолжительностью работы в компании и семейным положением сотрудника.\n",
    "2. Есть зависимость между продолжительностью работы в компании и возрастом сотрудника.\n",
    "\n",
    "<br><br>\n",
    "Параметры для подключения следующие: хост – `dsstudents.skillbox.ru`, порт – `5432`, имя базы данных – `human_resources`, пользователь – `readonly`, пароль – `6hajV34RTQfmxhS`. Таблицы, доступные для анализа, – `hr_dataset`, `production_staff`, `recruiting_costs`, `salary_grid`."
   ]
  },
  {
   "cell_type": "code",
   "execution_count": 18,
   "metadata": {
    "colab": {
     "base_uri": "https://localhost:8080/",
     "height": 35
    },
    "id": "7b1vJYVrHVAR",
    "outputId": "fc1b572c-2361-4273-f105-f2ea209d99a2"
   },
   "outputs": [],
   "source": [
    "import psycopg2\n",
    "import pandas as pd\n",
    "import matplotlib.pyplot as plt\n",
    "import seaborn as sns\n",
    "import scipy\n",
    "from scipy.stats import f_oneway"
   ]
  },
  {
   "cell_type": "code",
   "execution_count": 19,
   "metadata": {},
   "outputs": [
    {
     "name": "stderr",
     "output_type": "stream",
     "text": [
      "D:\\Anaconda\\lib\\site-packages\\pandas\\io\\sql.py:761: UserWarning: pandas only support SQLAlchemy connectable(engine/connection) ordatabase string URI or sqlite3 DBAPI2 connectionother DBAPI2 objects are not tested, please consider using SQLAlchemy\n",
      "  warnings.warn(\n",
      "D:\\Anaconda\\lib\\site-packages\\pandas\\io\\sql.py:761: UserWarning: pandas only support SQLAlchemy connectable(engine/connection) ordatabase string URI or sqlite3 DBAPI2 connectionother DBAPI2 objects are not tested, please consider using SQLAlchemy\n",
      "  warnings.warn(\n",
      "D:\\Anaconda\\lib\\site-packages\\pandas\\io\\sql.py:761: UserWarning: pandas only support SQLAlchemy connectable(engine/connection) ordatabase string URI or sqlite3 DBAPI2 connectionother DBAPI2 objects are not tested, please consider using SQLAlchemy\n",
      "  warnings.warn(\n",
      "D:\\Anaconda\\lib\\site-packages\\pandas\\io\\sql.py:761: UserWarning: pandas only support SQLAlchemy connectable(engine/connection) ordatabase string URI or sqlite3 DBAPI2 connectionother DBAPI2 objects are not tested, please consider using SQLAlchemy\n",
      "  warnings.warn(\n",
      "D:\\Anaconda\\lib\\site-packages\\pandas\\io\\sql.py:761: UserWarning: pandas only support SQLAlchemy connectable(engine/connection) ordatabase string URI or sqlite3 DBAPI2 connectionother DBAPI2 objects are not tested, please consider using SQLAlchemy\n",
      "  warnings.warn(\n",
      "D:\\Anaconda\\lib\\site-packages\\pandas\\io\\sql.py:761: UserWarning: pandas only support SQLAlchemy connectable(engine/connection) ordatabase string URI or sqlite3 DBAPI2 connectionother DBAPI2 objects are not tested, please consider using SQLAlchemy\n",
      "  warnings.warn(\n",
      "D:\\Anaconda\\lib\\site-packages\\pandas\\io\\sql.py:761: UserWarning: pandas only support SQLAlchemy connectable(engine/connection) ordatabase string URI or sqlite3 DBAPI2 connectionother DBAPI2 objects are not tested, please consider using SQLAlchemy\n",
      "  warnings.warn(\n"
     ]
    }
   ],
   "source": [
    "# Параметры подключения\n",
    "host = \"dsstudents.skillbox.ru\"\n",
    "port = 5433\n",
    "database = \"human_resources\"\n",
    "user = \"readonly\"\n",
    "password = \"6hajV34RTQfmxhS\"\n",
    "\n",
    "# Устанавливаем соединение с базой данных\n",
    "conn = psycopg2.connect(host=host, port=port, database=database, user=user, password=password)\n",
    "\n",
    "# Выполняем SQL-запрос для выгрузки данных\n",
    "hr_dataset = \"SELECT * FROM hr_dataset\"\n",
    "production_staff = \"SELECT * FROM production_staff\"\n",
    "recruiting_costs = \"SELECT * FROM recruiting_costs\"\n",
    "salary_grid = \"SELECT * FROM salary_grid\"\n",
    "\n",
    "df_hr_dataset = pd.read_sql_query(hr_dataset, conn)\n",
    "df_production_staff = pd.read_sql_query(production_staff, conn)\n",
    "df_recruiting_costs = pd.read_sql_query(recruiting_costs, conn)\n",
    "df_salary_grid = pd.read_sql_query(salary_grid, conn)\n",
    "\n",
    "# Гипотеза 1: Есть зависимость между perfomance score и тем, под чьим руководством работает сотрудник.\n",
    "sql_query = \"\"\"\n",
    "SELECT \"Manager Name\", AVG(perf_scoreid) AS Avg_Performance_Score\n",
    "FROM hr_dataset\n",
    "GROUP BY \"Manager Name\"\n",
    "\"\"\"\n",
    "df_manager_performance = pd.read_sql_query(sql_query, conn)\n",
    "\n",
    "# Гипотеза 2: Есть зависимость между продолжительностью работы в компании и семейным положением сотрудника.\n",
    "sql_query = \"\"\"\n",
    "SELECT maritaldesc, AVG(\"Days Employed\") AS Avg_Days_Employed\n",
    "FROM hr_dataset\n",
    "GROUP BY maritaldesc\n",
    "\"\"\"\n",
    "df_marital_employment = pd.read_sql_query(sql_query, conn)\n",
    "\n",
    "# Гипотеза 3: Есть зависимость между продолжительностью работы в компании и возрастом сотрудника.\n",
    "sql_query = \"\"\"\n",
    "SELECT age, AVG(\"Days Employed\") AS Avg_Days_Employed\n",
    "FROM hr_dataset\n",
    "GROUP BY age\n",
    "\"\"\"\n",
    "df_age_employment = pd.read_sql_query(sql_query, conn)"
   ]
  },
  {
   "cell_type": "code",
   "execution_count": 20,
   "metadata": {},
   "outputs": [],
   "source": [
    "# Гипотеза 1: Есть зависимость между perfomance score и тем, под чьим руководством работает сотрудник."
   ]
  },
  {
   "cell_type": "code",
   "execution_count": 21,
   "metadata": {},
   "outputs": [
    {
     "data": {
      "text/html": [
       "<div>\n",
       "<style scoped>\n",
       "    .dataframe tbody tr th:only-of-type {\n",
       "        vertical-align: middle;\n",
       "    }\n",
       "\n",
       "    .dataframe tbody tr th {\n",
       "        vertical-align: top;\n",
       "    }\n",
       "\n",
       "    .dataframe thead th {\n",
       "        text-align: right;\n",
       "    }\n",
       "</style>\n",
       "<table border=\"1\" class=\"dataframe\">\n",
       "  <thead>\n",
       "    <tr style=\"text-align: right;\">\n",
       "      <th></th>\n",
       "      <th>Manager Name</th>\n",
       "      <th>avg_performance_score</th>\n",
       "    </tr>\n",
       "  </thead>\n",
       "  <tbody>\n",
       "    <tr>\n",
       "      <th>0</th>\n",
       "      <td>Brian Champaigne</td>\n",
       "      <td>3.000000</td>\n",
       "    </tr>\n",
       "    <tr>\n",
       "      <th>1</th>\n",
       "      <td>Michael Albert</td>\n",
       "      <td>4.363636</td>\n",
       "    </tr>\n",
       "    <tr>\n",
       "      <th>2</th>\n",
       "      <td>Simon Roup</td>\n",
       "      <td>3.764706</td>\n",
       "    </tr>\n",
       "    <tr>\n",
       "      <th>3</th>\n",
       "      <td>John Smith</td>\n",
       "      <td>2.571429</td>\n",
       "    </tr>\n",
       "    <tr>\n",
       "      <th>4</th>\n",
       "      <td>Amy Dunn</td>\n",
       "      <td>4.380952</td>\n",
       "    </tr>\n",
       "    <tr>\n",
       "      <th>5</th>\n",
       "      <td>Brannon Miller</td>\n",
       "      <td>2.857143</td>\n",
       "    </tr>\n",
       "    <tr>\n",
       "      <th>6</th>\n",
       "      <td>Webster Butler</td>\n",
       "      <td>3.428571</td>\n",
       "    </tr>\n",
       "    <tr>\n",
       "      <th>7</th>\n",
       "      <td>Brandon R. LeBlanc</td>\n",
       "      <td>4.285714</td>\n",
       "    </tr>\n",
       "    <tr>\n",
       "      <th>8</th>\n",
       "      <td>Janet King</td>\n",
       "      <td>3.157895</td>\n",
       "    </tr>\n",
       "    <tr>\n",
       "      <th>9</th>\n",
       "      <td>Lynn Daneault</td>\n",
       "      <td>3.230769</td>\n",
       "    </tr>\n",
       "    <tr>\n",
       "      <th>10</th>\n",
       "      <td>Elijiah Gray</td>\n",
       "      <td>3.454545</td>\n",
       "    </tr>\n",
       "    <tr>\n",
       "      <th>11</th>\n",
       "      <td>Alex Sweetwater</td>\n",
       "      <td>2.555556</td>\n",
       "    </tr>\n",
       "    <tr>\n",
       "      <th>12</th>\n",
       "      <td>David Stanley</td>\n",
       "      <td>4.047619</td>\n",
       "    </tr>\n",
       "    <tr>\n",
       "      <th>13</th>\n",
       "      <td>Peter Monroe</td>\n",
       "      <td>4.500000</td>\n",
       "    </tr>\n",
       "    <tr>\n",
       "      <th>14</th>\n",
       "      <td>Eric Dougall</td>\n",
       "      <td>3.250000</td>\n",
       "    </tr>\n",
       "    <tr>\n",
       "      <th>15</th>\n",
       "      <td>Jennifer Zamora</td>\n",
       "      <td>3.285714</td>\n",
       "    </tr>\n",
       "    <tr>\n",
       "      <th>16</th>\n",
       "      <td>Board of Directors</td>\n",
       "      <td>3.000000</td>\n",
       "    </tr>\n",
       "    <tr>\n",
       "      <th>17</th>\n",
       "      <td>Kelley Spirea</td>\n",
       "      <td>3.000000</td>\n",
       "    </tr>\n",
       "    <tr>\n",
       "      <th>18</th>\n",
       "      <td>Kissy Sullivan</td>\n",
       "      <td>2.863636</td>\n",
       "    </tr>\n",
       "    <tr>\n",
       "      <th>19</th>\n",
       "      <td>Ketsia Liebig</td>\n",
       "      <td>3.333333</td>\n",
       "    </tr>\n",
       "    <tr>\n",
       "      <th>20</th>\n",
       "      <td>Debra Houlihan</td>\n",
       "      <td>2.666667</td>\n",
       "    </tr>\n",
       "  </tbody>\n",
       "</table>\n",
       "</div>"
      ],
      "text/plain": [
       "          Manager Name  avg_performance_score\n",
       "0     Brian Champaigne               3.000000\n",
       "1       Michael Albert               4.363636\n",
       "2           Simon Roup               3.764706\n",
       "3           John Smith               2.571429\n",
       "4             Amy Dunn               4.380952\n",
       "5       Brannon Miller               2.857143\n",
       "6       Webster Butler               3.428571\n",
       "7   Brandon R. LeBlanc               4.285714\n",
       "8           Janet King               3.157895\n",
       "9        Lynn Daneault               3.230769\n",
       "10        Elijiah Gray               3.454545\n",
       "11     Alex Sweetwater               2.555556\n",
       "12       David Stanley               4.047619\n",
       "13        Peter Monroe               4.500000\n",
       "14        Eric Dougall               3.250000\n",
       "15     Jennifer Zamora               3.285714\n",
       "16  Board of Directors               3.000000\n",
       "17       Kelley Spirea               3.000000\n",
       "18      Kissy Sullivan               2.863636\n",
       "19       Ketsia Liebig               3.333333\n",
       "20      Debra Houlihan               2.666667"
      ]
     },
     "execution_count": 21,
     "metadata": {},
     "output_type": "execute_result"
    }
   ],
   "source": [
    "df_manager_performance"
   ]
  },
  {
   "cell_type": "code",
   "execution_count": 22,
   "metadata": {},
   "outputs": [
    {
     "data": {
      "image/png": "[encoded data removed]",
      "text/plain": [
       "<Figure size 864x432 with 1 Axes>"
      ]
     },
     "metadata": {
      "needs_background": "light"
     },
     "output_type": "display_data"
    }
   ],
   "source": [
    "plt.figure(figsize=(12, 6))\n",
    "sns.barplot(x='Manager Name', y='avg_performance_score', data=df_manager_performance)\n",
    "plt.xticks(rotation=90)\n",
    "plt.title('Средний performance score по руководителям')\n",
    "plt.xlabel('Руководитель')\n",
    "plt.ylabel('Средний performance score')\n",
    "plt.show()"
   ]
  },
  {
   "cell_type": "code",
   "execution_count": 23,
   "metadata": {},
   "outputs": [
    {
     "name": "stdout",
     "output_type": "stream",
     "text": [
      "Нет статистически значимой разницы между средними performance score руководителей.\n"
     ]
    },
    {
     "name": "stderr",
     "output_type": "stream",
     "text": [
      "D:\\Anaconda\\lib\\site-packages\\scipy\\stats\\stats.py:3629: F_onewayBadInputSizesWarning: all input arrays have length 1.  f_oneway requires that at least one input has length greater than 1.\n",
      "  warnings.warn(F_onewayBadInputSizesWarning(msg))\n"
     ]
    }
   ],
   "source": [
    "grouped_data = [df_manager_performance[df_manager_performance['Manager Name'] == manager]['avg_performance_score'] for manager in df_manager_performance['Manager Name']]\n",
    "\n",
    "f_statistic, p_value = f_oneway(*grouped_data)\n",
    "\n",
    "if p_value < 0.05:\n",
    "    print(\"Существует статистически значимая разница между средними performance score руководителей.\")\n",
    "else:\n",
    "    print(\"Нет статистически значимой разницы между средними performance score руководителей.\")"
   ]
  },
  {
   "cell_type": "code",
   "execution_count": 24,
   "metadata": {},
   "outputs": [],
   "source": [
    "# Гипотеза 2: Есть зависимость между продолжительностью работы в компании и семейным положением сотрудника."
   ]
  },
  {
   "cell_type": "code",
   "execution_count": 25,
   "metadata": {},
   "outputs": [
    {
     "data": {
      "text/html": [
       "<div>\n",
       "<style scoped>\n",
       "    .dataframe tbody tr th:only-of-type {\n",
       "        vertical-align: middle;\n",
       "    }\n",
       "\n",
       "    .dataframe tbody tr th {\n",
       "        vertical-align: top;\n",
       "    }\n",
       "\n",
       "    .dataframe thead th {\n",
       "        text-align: right;\n",
       "    }\n",
       "</style>\n",
       "<table border=\"1\" class=\"dataframe\">\n",
       "  <thead>\n",
       "    <tr style=\"text-align: right;\">\n",
       "      <th></th>\n",
       "      <th>maritaldesc</th>\n",
       "      <th>avg_days_employed</th>\n",
       "    </tr>\n",
       "  </thead>\n",
       "  <tbody>\n",
       "    <tr>\n",
       "      <th>0</th>\n",
       "      <td>Widowed</td>\n",
       "      <td>863.000000</td>\n",
       "    </tr>\n",
       "    <tr>\n",
       "      <th>1</th>\n",
       "      <td>Married</td>\n",
       "      <td>1246.235772</td>\n",
       "    </tr>\n",
       "    <tr>\n",
       "      <th>2</th>\n",
       "      <td>Separated</td>\n",
       "      <td>1703.416667</td>\n",
       "    </tr>\n",
       "    <tr>\n",
       "      <th>3</th>\n",
       "      <td>Single</td>\n",
       "      <td>1372.751825</td>\n",
       "    </tr>\n",
       "    <tr>\n",
       "      <th>4</th>\n",
       "      <td>Divorced</td>\n",
       "      <td>1102.866667</td>\n",
       "    </tr>\n",
       "  </tbody>\n",
       "</table>\n",
       "</div>"
      ],
      "text/plain": [
       "  maritaldesc  avg_days_employed\n",
       "0     Widowed         863.000000\n",
       "1     Married        1246.235772\n",
       "2   Separated        1703.416667\n",
       "3      Single        1372.751825\n",
       "4    Divorced        1102.866667"
      ]
     },
     "execution_count": 25,
     "metadata": {},
     "output_type": "execute_result"
    }
   ],
   "source": [
    "df_marital_employment"
   ]
  },
  {
   "cell_type": "code",
   "execution_count": 26,
   "metadata": {},
   "outputs": [
    {
     "data": {
      "image/png": "[encoded data removed]",
      "text/plain": [
       "<Figure size 720x432 with 1 Axes>"
      ]
     },
     "metadata": {
      "needs_background": "light"
     },
     "output_type": "display_data"
    }
   ],
   "source": [
    "data = df_marital_employment\n",
    "\n",
    "plt.figure(figsize=(10, 6))\n",
    "sns.boxplot(x='maritaldesc', y='avg_days_employed', data=data)\n",
    "plt.title('Распределение продолжительности работы по семейному статусу')\n",
    "plt.xticks(rotation=45)\n",
    "plt.xlabel('Семейный статус')\n",
    "plt.ylabel('Средняя продолжительность работы (в днях)')\n",
    "plt.show()"
   ]
  },
  {
   "cell_type": "code",
   "execution_count": 27,
   "metadata": {},
   "outputs": [
    {
     "name": "stdout",
     "output_type": "stream",
     "text": [
      "Статистика F: nan\n",
      "p-значение: nan\n",
      "Не отвергаем нулевую гипотезу: Нет статистически значимого влияния семейного положения на продолжительность работы.\n"
     ]
    },
    {
     "name": "stderr",
     "output_type": "stream",
     "text": [
      "D:\\Anaconda\\lib\\site-packages\\scipy\\stats\\stats.py:3629: F_onewayBadInputSizesWarning: all input arrays have length 1.  f_oneway requires that at least one input has length greater than 1.\n",
      "  warnings.warn(F_onewayBadInputSizesWarning(msg))\n"
     ]
    }
   ],
   "source": [
    "data = df_marital_employment\n",
    "\n",
    "groups = []\n",
    "for marital_status, group_data in data.groupby('maritaldesc'):\n",
    "    groups.append(group_data['avg_days_employed'])\n",
    "\n",
    "f_statistic, p_value = f_oneway(*groups)\n",
    "\n",
    "alpha = 0.05\n",
    "print(f'Статистика F: {f_statistic}')\n",
    "print(f'p-значение: {p_value}')\n",
    "\n",
    "if p_value < alpha:\n",
    "    print('Отвергаем нулевую гипотезу: Семейное положение оказывает статистически значимое влияние на продолжительность работы.')\n",
    "else:\n",
    "    print('Не отвергаем нулевую гипотезу: Нет статистически значимого влияния семейного положения на продолжительность работы.')"
   ]
  },
  {
   "cell_type": "code",
   "execution_count": 28,
   "metadata": {},
   "outputs": [],
   "source": [
    "# Гипотеза 3: Есть зависимость между продолжительностью работы в компании и возрастом сотрудника."
   ]
  },
  {
   "cell_type": "code",
   "execution_count": 30,
   "metadata": {},
   "outputs": [
    {
     "data": {
      "text/html": [
       "<div>\n",
       "<style scoped>\n",
       "    .dataframe tbody tr th:only-of-type {\n",
       "        vertical-align: middle;\n",
       "    }\n",
       "\n",
       "    .dataframe tbody tr th {\n",
       "        vertical-align: top;\n",
       "    }\n",
       "\n",
       "    .dataframe thead th {\n",
       "        text-align: right;\n",
       "    }\n",
       "</style>\n",
       "<table border=\"1\" class=\"dataframe\">\n",
       "  <thead>\n",
       "    <tr style=\"text-align: right;\">\n",
       "      <th></th>\n",
       "      <th>age</th>\n",
       "      <th>avg_days_employed</th>\n",
       "    </tr>\n",
       "  </thead>\n",
       "  <tbody>\n",
       "    <tr>\n",
       "      <th>0</th>\n",
       "      <td>42</td>\n",
       "      <td>1470.625000</td>\n",
       "    </tr>\n",
       "    <tr>\n",
       "      <th>1</th>\n",
       "      <td>54</td>\n",
       "      <td>1465.000000</td>\n",
       "    </tr>\n",
       "    <tr>\n",
       "      <th>2</th>\n",
       "      <td>29</td>\n",
       "      <td>1626.466667</td>\n",
       "    </tr>\n",
       "    <tr>\n",
       "      <th>3</th>\n",
       "      <td>34</td>\n",
       "      <td>1098.105263</td>\n",
       "    </tr>\n",
       "    <tr>\n",
       "      <th>4</th>\n",
       "      <td>51</td>\n",
       "      <td>1631.000000</td>\n",
       "    </tr>\n",
       "    <tr>\n",
       "      <th>5</th>\n",
       "      <td>41</td>\n",
       "      <td>1278.500000</td>\n",
       "    </tr>\n",
       "    <tr>\n",
       "      <th>6</th>\n",
       "      <td>40</td>\n",
       "      <td>1709.125000</td>\n",
       "    </tr>\n",
       "    <tr>\n",
       "      <th>7</th>\n",
       "      <td>46</td>\n",
       "      <td>299.333333</td>\n",
       "    </tr>\n",
       "    <tr>\n",
       "      <th>8</th>\n",
       "      <td>52</td>\n",
       "      <td>1199.800000</td>\n",
       "    </tr>\n",
       "    <tr>\n",
       "      <th>9</th>\n",
       "      <td>43</td>\n",
       "      <td>1251.222222</td>\n",
       "    </tr>\n",
       "    <tr>\n",
       "      <th>10</th>\n",
       "      <td>67</td>\n",
       "      <td>1414.500000</td>\n",
       "    </tr>\n",
       "    <tr>\n",
       "      <th>11</th>\n",
       "      <td>53</td>\n",
       "      <td>764.600000</td>\n",
       "    </tr>\n",
       "    <tr>\n",
       "      <th>12</th>\n",
       "      <td>32</td>\n",
       "      <td>1309.416667</td>\n",
       "    </tr>\n",
       "    <tr>\n",
       "      <th>13</th>\n",
       "      <td>63</td>\n",
       "      <td>1396.333333</td>\n",
       "    </tr>\n",
       "    <tr>\n",
       "      <th>14</th>\n",
       "      <td>35</td>\n",
       "      <td>1540.384615</td>\n",
       "    </tr>\n",
       "    <tr>\n",
       "      <th>15</th>\n",
       "      <td>45</td>\n",
       "      <td>1152.750000</td>\n",
       "    </tr>\n",
       "    <tr>\n",
       "      <th>16</th>\n",
       "      <td>38</td>\n",
       "      <td>1562.666667</td>\n",
       "    </tr>\n",
       "    <tr>\n",
       "      <th>17</th>\n",
       "      <td>26</td>\n",
       "      <td>849.500000</td>\n",
       "    </tr>\n",
       "    <tr>\n",
       "      <th>18</th>\n",
       "      <td>48</td>\n",
       "      <td>1269.600000</td>\n",
       "    </tr>\n",
       "    <tr>\n",
       "      <th>19</th>\n",
       "      <td>39</td>\n",
       "      <td>1440.000000</td>\n",
       "    </tr>\n",
       "    <tr>\n",
       "      <th>20</th>\n",
       "      <td>25</td>\n",
       "      <td>1843.500000</td>\n",
       "    </tr>\n",
       "    <tr>\n",
       "      <th>21</th>\n",
       "      <td>36</td>\n",
       "      <td>1237.461538</td>\n",
       "    </tr>\n",
       "    <tr>\n",
       "      <th>22</th>\n",
       "      <td>31</td>\n",
       "      <td>1200.080000</td>\n",
       "    </tr>\n",
       "    <tr>\n",
       "      <th>23</th>\n",
       "      <td>30</td>\n",
       "      <td>1093.533333</td>\n",
       "    </tr>\n",
       "    <tr>\n",
       "      <th>24</th>\n",
       "      <td>50</td>\n",
       "      <td>2055.666667</td>\n",
       "    </tr>\n",
       "    <tr>\n",
       "      <th>25</th>\n",
       "      <td>49</td>\n",
       "      <td>1995.000000</td>\n",
       "    </tr>\n",
       "    <tr>\n",
       "      <th>26</th>\n",
       "      <td>47</td>\n",
       "      <td>1384.500000</td>\n",
       "    </tr>\n",
       "    <tr>\n",
       "      <th>27</th>\n",
       "      <td>66</td>\n",
       "      <td>787.000000</td>\n",
       "    </tr>\n",
       "    <tr>\n",
       "      <th>28</th>\n",
       "      <td>28</td>\n",
       "      <td>962.583333</td>\n",
       "    </tr>\n",
       "    <tr>\n",
       "      <th>29</th>\n",
       "      <td>37</td>\n",
       "      <td>1155.125000</td>\n",
       "    </tr>\n",
       "    <tr>\n",
       "      <th>30</th>\n",
       "      <td>59</td>\n",
       "      <td>1350.000000</td>\n",
       "    </tr>\n",
       "    <tr>\n",
       "      <th>31</th>\n",
       "      <td>33</td>\n",
       "      <td>1059.235294</td>\n",
       "    </tr>\n",
       "    <tr>\n",
       "      <th>32</th>\n",
       "      <td>65</td>\n",
       "      <td>927.500000</td>\n",
       "    </tr>\n",
       "    <tr>\n",
       "      <th>33</th>\n",
       "      <td>62</td>\n",
       "      <td>98.000000</td>\n",
       "    </tr>\n",
       "    <tr>\n",
       "      <th>34</th>\n",
       "      <td>55</td>\n",
       "      <td>1196.000000</td>\n",
       "    </tr>\n",
       "    <tr>\n",
       "      <th>35</th>\n",
       "      <td>27</td>\n",
       "      <td>1547.000000</td>\n",
       "    </tr>\n",
       "    <tr>\n",
       "      <th>36</th>\n",
       "      <td>56</td>\n",
       "      <td>1420.000000</td>\n",
       "    </tr>\n",
       "    <tr>\n",
       "      <th>37</th>\n",
       "      <td>58</td>\n",
       "      <td>1635.000000</td>\n",
       "    </tr>\n",
       "    <tr>\n",
       "      <th>38</th>\n",
       "      <td>44</td>\n",
       "      <td>1221.888889</td>\n",
       "    </tr>\n",
       "  </tbody>\n",
       "</table>\n",
       "</div>"
      ],
      "text/plain": [
       "    age  avg_days_employed\n",
       "0    42        1470.625000\n",
       "1    54        1465.000000\n",
       "2    29        1626.466667\n",
       "3    34        1098.105263\n",
       "4    51        1631.000000\n",
       "5    41        1278.500000\n",
       "6    40        1709.125000\n",
       "7    46         299.333333\n",
       "8    52        1199.800000\n",
       "9    43        1251.222222\n",
       "10   67        1414.500000\n",
       "11   53         764.600000\n",
       "12   32        1309.416667\n",
       "13   63        1396.333333\n",
       "14   35        1540.384615\n",
       "15   45        1152.750000\n",
       "16   38        1562.666667\n",
       "17   26         849.500000\n",
       "18   48        1269.600000\n",
       "19   39        1440.000000\n",
       "20   25        1843.500000\n",
       "21   36        1237.461538\n",
       "22   31        1200.080000\n",
       "23   30        1093.533333\n",
       "24   50        2055.666667\n",
       "25   49        1995.000000\n",
       "26   47        1384.500000\n",
       "27   66         787.000000\n",
       "28   28         962.583333\n",
       "29   37        1155.125000\n",
       "30   59        1350.000000\n",
       "31   33        1059.235294\n",
       "32   65         927.500000\n",
       "33   62          98.000000\n",
       "34   55        1196.000000\n",
       "35   27        1547.000000\n",
       "36   56        1420.000000\n",
       "37   58        1635.000000\n",
       "38   44        1221.888889"
      ]
     },
     "execution_count": 30,
     "metadata": {},
     "output_type": "execute_result"
    }
   ],
   "source": [
    "df_age_employment"
   ]
  },
  {
   "cell_type": "code",
   "execution_count": 31,
   "metadata": {},
   "outputs": [
    {
     "data": {
      "image/png": "[encoded data removed]",
      "text/plain": [
       "<Figure size 720x432 with 1 Axes>"
      ]
     },
     "metadata": {
      "needs_background": "light"
     },
     "output_type": "display_data"
    }
   ],
   "source": [
    "age_employment_data = df_age_employment\n",
    "ages = age_employment_data['age']\n",
    "avg_days_employed = age_employment_data['avg_days_employed']\n",
    "\n",
    "plt.figure(figsize=(10, 6))\n",
    "plt.scatter(ages, avg_days_employed, color='b', label='Данные')\n",
    "plt.title('Зависимость продолжительности работы от возраста сотрудника')\n",
    "plt.xlabel('Возраст сотрудника')\n",
    "plt.ylabel('Средняя продолжительность работы (в днях)')\n",
    "plt.legend()\n",
    "plt.show()"
   ]
  },
  {
   "cell_type": "code",
   "execution_count": 32,
   "metadata": {},
   "outputs": [
    {
     "name": "stdout",
     "output_type": "stream",
     "text": [
      "Коэффициент корреляции Пирсона: -0.15280133877661647\n",
      "p-значение: 0.35306189488945383\n"
     ]
    }
   ],
   "source": [
    "correlation_coefficient, p_value = scipy.stats.pearsonr(ages, avg_days_employed)\n",
    "\n",
    "print(f'Коэффициент корреляции Пирсона: {correlation_coefficient}')\n",
    "print(f'p-значение: {p_value}')"
   ]
  },
  {
   "cell_type": "code",
   "execution_count": 33,
   "metadata": {},
   "outputs": [
    {
     "name": "stdout",
     "output_type": "stream",
     "text": [
      "Index(['id', 'Employee Name', 'Employee Number', 'marriedid',\n",
      "       'maritalstatusid', 'genderid', 'empstatus_id', 'deptid', 'perf_scoreid',\n",
      "       'age', 'Pay Rate', 'state', 'zip', 'dob', 'sex', 'maritaldesc',\n",
      "       'citizendesc', 'Hispanic/Latino', 'racedesc', 'Date of Hire',\n",
      "       'Days Employed', 'Date of Termination', 'Reason For Term',\n",
      "       'Employment Status', 'department', 'position', 'Manager Name',\n",
      "       'Employee Source', 'Performance Score'],\n",
      "      dtype='object')\n",
      "Index(['id', 'Employee Name', 'Race Desc', 'Date of Hire', 'TermDate',\n",
      "       'Reason for Term', 'Employment Status', 'Department', 'Position', 'Pay',\n",
      "       'Manager Name', 'Performance Score', 'Abutments/Hour Wk 1',\n",
      "       'Abutments/Hour Wk 2', 'Daily Error Rate', '90-day Complaints'],\n",
      "      dtype='object')\n",
      "Index(['id', 'Employment Source', 'January ', 'February', 'March', 'April',\n",
      "       'May', 'June', 'July', 'August', 'September', 'October', 'November',\n",
      "       'December', 'Total'],\n",
      "      dtype='object')\n",
      "Index(['id', 'Position', 'Salary Min', 'Salary Mid', 'Salary Max',\n",
      "       'Hourly Min', 'Hourly Mid', 'Hourly Max'],\n",
      "      dtype='object')\n"
     ]
    }
   ],
   "source": [
    "print(df_hr_dataset.columns)\n",
    "print(df_production_staff.columns)\n",
    "print(df_recruiting_costs.columns)\n",
    "print(df_salary_grid.columns)"
   ]
  },
  {
   "cell_type": "code",
   "execution_count": 35,
   "metadata": {},
   "outputs": [],
   "source": [
    "# Закрываем соединение\n",
    "conn.close()"
   ]
  },
  {
   "cell_type": "markdown",
   "metadata": {
    "id": "5OXer84FHVAU"
   },
   "source": [
    "## Часть вторая"
   ]
  },
  {
   "cell_type": "markdown",
   "metadata": {
    "id": "8vS_kLIvHVAV"
   },
   "source": [
    "Перед вами стоит задача – подготовить аналитический ответ для SMM-отдела компании Skillbox. <br> Объектом анализа является  [паблик Skillbox Вконтакте](https://vk.com/skillbox_education). <br> <br>\n",
    "Подключитесь к  API VK и выгрузите посты со стены паблика Skillbox за интересующий период (определите самостоятельно и обоснуйте). Проанализируйте влияние различных факторов (например, времени публикации) на вовлеченность пользователей (количество лайков, комментариев, голосов в опросах). Сделайте аналитику по рубрикам (примеры рубрик: дизайн-битва, игра по управлению), которые есть в паблике. Выбрать нужные посты можно с помощью регулярных выражений. Составьте перечень рекомандаций для SMM-отдела по итогам анализа. <br> <br>\n",
    "\n",
    "Дополнительные инструкции по работе с API VK расположены [здесь](https://colab.research.google.com/drive/1rRaTay-OSPLAOX8V9UaFvTiAciVtp2s3)."
   ]
  },
  {
   "cell_type": "code",
   "execution_count": 56,
   "metadata": {},
   "outputs": [],
   "source": [
    "import requests\n",
    "\n",
    "def getjson(url):\n",
    "    response = requests.get(url)\n",
    "    response = response.json()\n",
    "    return response"
   ]
  },
  {
   "cell_type": "code",
   "execution_count": 57,
   "metadata": {},
   "outputs": [
    {
     "name": "stdout",
     "output_type": "stream",
     "text": [
      "{'response': {'id': 231606991, 'home_town': 'Москва', 'status': 'inst: @ni.os.and 🍃', 'photo_200': 'https://sun1-54.userapi.com/s/v1/ig2/YW3tk6Ijk7zJTuGFliHhUBL9rwPuXh4aUkGgTaSbzDcx7cLtxImfL1fPUJF1AD_5tdWlimlRItnBJKHxCMPlW8Pb.jpg?size=200x200&quality=95&crop=0,174,526,526&ava=1', 'is_tinkoff_linked': True, 'is_tinkoff_verified': False, 'is_sber_verified': False, 'oauth_linked': ['esia', 'tinkoff_id'], 'oauth_verification': ['esia'], 'account_verification_profile': {'first_name': 'Никита', 'last_name': 'Осипов', 'sex': 2, 'middle_name': 'Андреевич', 'birthdate': '08.05.2003'}, 'verification_status': 'verified', 'promo_verifications': [], 'first_name': 'Никита', 'last_name': 'Осипов', 'bdate': '8.5.2003', 'bdate_visibility': 1, 'city': {'id': 1, 'title': 'Москва'}, 'country': {'id': 1, 'title': 'Россия'}, 'phone': '+7 *** *** ** 31', 'relation': 0, 'screen_name': 'niosand', 'sex': 2}}\n"
     ]
    }
   ],
   "source": [
    "vk_token = ('Ur token')\n",
    "               \n",
    "url = 'https://api.vk.com/method/account.getProfileInfo?access_token=' + str(vk_token) + '&v=5.92'\n",
    "response = getjson(url)\n",
    "\n",
    "print(response)"
   ]
  },
  {
   "cell_type": "code",
   "execution_count": 63,
   "metadata": {},
   "outputs": [],
   "source": [
    "from datetime import datetime\n",
    "\n",
    "start_date = datetime(2023, 1, 1)\n",
    "end_date = datetime(2023, 12, 31)\n",
    "start_time = int(start_date.timestamp())\n",
    "end_time = int(end_date.timestamp())\n",
    "\n",
    "url = 'https://api.vk.com/method/wall.get?access_token=' + str(vk_token) + '&owner_id=-66669811&count=100&v=5.92&start_time=' + str(start_time) + '&end_time=' + str(end_time)\n",
    "response = getjson(url)\n"
   ]
  },
  {
   "cell_type": "code",
   "execution_count": 65,
   "metadata": {},
   "outputs": [],
   "source": [
    "# Получение постов из паблика Skillbox за интересующий период:"
   ]
  },
  {
   "cell_type": "code",
   "execution_count": 64,
   "metadata": {},
   "outputs": [
    {
     "name": "stdout",
     "output_type": "stream",
     "text": [
      "Пост ID: 294781, Лайков: 8, Комментариев: 0, Голосов в опросах: 0\n",
      "Пост ID: 294796, Лайков: 8, Комментариев: 0, Голосов в опросах: 0\n",
      "Пост ID: 294794, Лайков: 2, Комментариев: 0, Голосов в опросах: 0\n",
      "Пост ID: 294791, Лайков: 6, Комментариев: 0, Голосов в опросах: 0\n",
      "Пост ID: 294789, Лайков: 4, Комментариев: 0, Голосов в опросах: 0\n",
      "Пост ID: 294780, Лайков: 5, Комментариев: 3, Голосов в опросах: 0\n",
      "Пост ID: 294777, Лайков: 28, Комментариев: 0, Голосов в опросах: 0\n",
      "Пост ID: 294773, Лайков: 9, Комментариев: 0, Голосов в опросах: 0\n",
      "Пост ID: 294769, Лайков: 19, Комментариев: 6, Голосов в опросах: 0\n",
      "Пост ID: 294745, Лайков: 84, Комментариев: 23, Голосов в опросах: 0\n",
      "Пост ID: 294744, Лайков: 9, Комментариев: 0, Голосов в опросах: 0\n",
      "Пост ID: 294740, Лайков: 64, Комментариев: 0, Голосов в опросах: 0\n",
      "Пост ID: 294732, Лайков: 9, Комментариев: 0, Голосов в опросах: 0\n",
      "Пост ID: 294715, Лайков: 31, Комментариев: 4, Голосов в опросах: 0\n",
      "Пост ID: 294714, Лайков: 9, Комментариев: 0, Голосов в опросах: 0\n",
      "Пост ID: 294702, Лайков: 112, Комментариев: 4, Голосов в опросах: 0\n",
      "Пост ID: 294694, Лайков: 18, Комментариев: 5, Голосов в опросах: 0\n",
      "Пост ID: 294684, Лайков: 14, Комментариев: 0, Голосов в опросах: 0\n",
      "Пост ID: 294666, Лайков: 18, Комментариев: 0, Голосов в опросах: 0\n",
      "Пост ID: 294656, Лайков: 20, Комментариев: 0, Голосов в опросах: 0\n",
      "Пост ID: 294653, Лайков: 4, Комментариев: 0, Голосов в опросах: 0\n",
      "Пост ID: 294609, Лайков: 7, Комментариев: 29, Голосов в опросах: 0\n",
      "Пост ID: 294588, Лайков: 15, Комментариев: 0, Голосов в опросах: 0\n",
      "Пост ID: 294566, Лайков: 8, Комментариев: 0, Голосов в опросах: 0\n",
      "Пост ID: 294553, Лайков: 14, Комментариев: 2, Голосов в опросах: 0\n",
      "Пост ID: 294525, Лайков: 7, Комментариев: 0, Голосов в опросах: 0\n",
      "Пост ID: 294522, Лайков: 33, Комментариев: 0, Голосов в опросах: 0\n",
      "Пост ID: 294485, Лайков: 24, Комментариев: 0, Голосов в опросах: 0\n",
      "Пост ID: 294472, Лайков: 9, Комментариев: 2, Голосов в опросах: 0\n",
      "Пост ID: 294464, Лайков: 69, Комментариев: 0, Голосов в опросах: 0\n",
      "Пост ID: 294447, Лайков: 7, Комментариев: 0, Голосов в опросах: 0\n",
      "Пост ID: 294415, Лайков: 12, Комментариев: 0, Голосов в опросах: 0\n",
      "Пост ID: 294387, Лайков: 14, Комментариев: 8, Голосов в опросах: 0\n",
      "Пост ID: 294373, Лайков: 9, Комментариев: 0, Голосов в опросах: 0\n",
      "Пост ID: 294366, Лайков: 24, Комментариев: 0, Голосов в опросах: 0\n",
      "Пост ID: 294350, Лайков: 7, Комментариев: 0, Голосов в опросах: 0\n",
      "Пост ID: 294336, Лайков: 35, Комментариев: 2, Голосов в опросах: 0\n",
      "Пост ID: 294303, Лайков: 18, Комментариев: 0, Голосов в опросах: 0\n",
      "Пост ID: 294273, Лайков: 300, Комментариев: 16, Голосов в опросах: 0\n",
      "Пост ID: 294231, Лайков: 7, Комментариев: 0, Голосов в опросах: 0\n",
      "Пост ID: 294199, Лайков: 50, Комментариев: 2, Голосов в опросах: 0\n",
      "Пост ID: 294187, Лайков: 8, Комментариев: 0, Голосов в опросах: 0\n",
      "Пост ID: 294174, Лайков: 10, Комментариев: 0, Голосов в опросах: 0\n",
      "Пост ID: 294172, Лайков: 20, Комментариев: 0, Голосов в опросах: 0\n",
      "Пост ID: 294168, Лайков: 22, Комментариев: 0, Голосов в опросах: 0\n",
      "Пост ID: 294166, Лайков: 60, Комментариев: 4, Голосов в опросах: 0\n",
      "Пост ID: 294150, Лайков: 35, Комментариев: 2, Голосов в опросах: 0\n",
      "Пост ID: 294149, Лайков: 7, Комментариев: 5, Голосов в опросах: 0\n",
      "Пост ID: 294147, Лайков: 12, Комментариев: 0, Голосов в опросах: 0\n",
      "Пост ID: 294145, Лайков: 25, Комментариев: 0, Голосов в опросах: 0\n",
      "Пост ID: 294134, Лайков: 11, Комментариев: 0, Голосов в опросах: 0\n",
      "Пост ID: 294126, Лайков: 12, Комментариев: 0, Голосов в опросах: 0\n",
      "Пост ID: 294103, Лайков: 19, Комментариев: 0, Голосов в опросах: 0\n",
      "Пост ID: 294098, Лайков: 13, Комментариев: 6, Голосов в опросах: 0\n",
      "Пост ID: 294061, Лайков: 8, Комментариев: 0, Голосов в опросах: 0\n",
      "Пост ID: 294045, Лайков: 5, Комментариев: 0, Голосов в опросах: 0\n",
      "Пост ID: 294029, Лайков: 18, Комментариев: 2, Голосов в опросах: 0\n",
      "Пост ID: 294002, Лайков: 21, Комментариев: 2, Голосов в опросах: 0\n",
      "Пост ID: 293975, Лайков: 14, Комментариев: 0, Голосов в опросах: 0\n",
      "Пост ID: 293953, Лайков: 20, Комментариев: 6, Голосов в опросах: 0\n",
      "Пост ID: 293933, Лайков: 20, Комментариев: 4, Голосов в опросах: 0\n",
      "Пост ID: 293883, Лайков: 11, Комментариев: 2, Голосов в опросах: 0\n",
      "Пост ID: 293859, Лайков: 11, Комментариев: 0, Голосов в опросах: 0\n",
      "Пост ID: 293818, Лайков: 17, Комментариев: 10, Голосов в опросах: 0\n",
      "Пост ID: 293774, Лайков: 95, Комментариев: 13, Голосов в опросах: 0\n",
      "Пост ID: 293665, Лайков: 10, Комментариев: 0, Голосов в опросах: 0\n",
      "Пост ID: 293621, Лайков: 8, Комментариев: 0, Голосов в опросах: 0\n",
      "Пост ID: 293588, Лайков: 6, Комментариев: 0, Голосов в опросах: 0\n",
      "Пост ID: 293536, Лайков: 11, Комментариев: 0, Голосов в опросах: 0\n",
      "Пост ID: 293502, Лайков: 52, Комментариев: 10, Голосов в опросах: 0\n",
      "Пост ID: 293477, Лайков: 46, Комментариев: 33, Голосов в опросах: 0\n",
      "Пост ID: 293453, Лайков: 10, Комментариев: 23, Голосов в опросах: 0\n",
      "Пост ID: 293448, Лайков: 8, Комментариев: 0, Голосов в опросах: 0\n",
      "Пост ID: 293398, Лайков: 7, Комментариев: 0, Голосов в опросах: 0\n",
      "Пост ID: 293388, Лайков: 40, Комментариев: 0, Голосов в опросах: 0\n",
      "Пост ID: 293367, Лайков: 9, Комментариев: 0, Голосов в опросах: 0\n",
      "Пост ID: 293233, Лайков: 11, Комментариев: 0, Голосов в опросах: 0\n",
      "Пост ID: 293226, Лайков: 9, Комментариев: 2, Голосов в опросах: 0\n",
      "Пост ID: 293206, Лайков: 166, Комментариев: 14, Голосов в опросах: 0\n",
      "Пост ID: 293176, Лайков: 37, Комментариев: 0, Голосов в опросах: 0\n",
      "Пост ID: 293170, Лайков: 15, Комментариев: 4, Голосов в опросах: 0\n",
      "Пост ID: 293105, Лайков: 9, Комментариев: 0, Голосов в опросах: 0\n",
      "Пост ID: 293086, Лайков: 9, Комментариев: 3, Голосов в опросах: 0\n",
      "Пост ID: 293003, Лайков: 40, Комментариев: 4, Голосов в опросах: 0\n",
      "Пост ID: 292954, Лайков: 24, Комментариев: 0, Голосов в опросах: 0\n",
      "Пост ID: 292941, Лайков: 40, Комментариев: 2, Голосов в опросах: 0\n",
      "Пост ID: 292930, Лайков: 18, Комментариев: 0, Голосов в опросах: 0\n",
      "Пост ID: 292892, Лайков: 25, Комментариев: 2, Голосов в опросах: 0\n",
      "Пост ID: 292844, Лайков: 26, Комментариев: 5, Голосов в опросах: 0\n",
      "Пост ID: 292842, Лайков: 16, Комментариев: 13, Голосов в опросах: 0\n",
      "Пост ID: 292841, Лайков: 60, Комментариев: 0, Голосов в опросах: 0\n",
      "Пост ID: 292840, Лайков: 16, Комментариев: 0, Голосов в опросах: 0\n",
      "Пост ID: 292835, Лайков: 8, Комментариев: 0, Голосов в опросах: 0\n",
      "Пост ID: 292823, Лайков: 16, Комментариев: 4, Голосов в опросах: 0\n",
      "Пост ID: 292822, Лайков: 24, Комментариев: 0, Голосов в опросах: 0\n",
      "Пост ID: 292813, Лайков: 12, Комментариев: 0, Голосов в опросах: 0\n",
      "Пост ID: 292808, Лайков: 25, Комментариев: 0, Голосов в опросах: 0\n",
      "Пост ID: 292805, Лайков: 12, Комментариев: 6, Голосов в опросах: 0\n",
      "Пост ID: 292802, Лайков: 15, Комментариев: 0, Голосов в опросах: 0\n",
      "Пост ID: 292800, Лайков: 10, Комментариев: 0, Голосов в опросах: 0\n"
     ]
    }
   ],
   "source": [
    "for post in response['response']['items']:\n",
    "    likes = post['likes']['count']\n",
    "    comments = post['comments']['count']\n",
    "    poll_votes = 0\n",
    "    if 'poll' in post:\n",
    "        poll_votes = sum([option['votes'] for option in post['poll']['options']])\n",
    "    \n",
    "    print(f'Пост ID: {post[\"id\"]}, Лайков: {likes}, Комментариев: {comments}, Голосов в опросах: {poll_votes}')\n"
   ]
  },
  {
   "cell_type": "code",
   "execution_count": 69,
   "metadata": {},
   "outputs": [],
   "source": [
    "# Анализ рубрик:"
   ]
  },
  {
   "cell_type": "code",
   "execution_count": 74,
   "metadata": {},
   "outputs": [
    {
     "name": "stdout",
     "output_type": "stream",
     "text": [
      "Пост с хэштегом #Skillbox_киноимузыка: 294794\n",
      "Пост с хэштегом #ДайджестПоЧетвергам: 294789\n",
      "Пост с хэштегом #Skillbox_киноимузыка: 294732\n",
      "Пост с хэштегом #Skillbox_киноимузыка: 294714\n",
      "Пост с хэштегом #ДайджестПоЧетвергам: 294566\n",
      "Пост с хэштегом #Skillbox_киноимузыка: 294303\n",
      "Пост с хэштегом #Skillbox_киноимузыка: 294172\n",
      "Пост с хэштегом #Skillbox_киноимузыка: 294061\n",
      "Пост с хэштегом #ДайджестПоЧетвергам: 294045\n",
      "Пост с хэштегом #ДайджестПоЧетвергам: 293233\n",
      "Пост с хэштегом #Skillbox_киноимузыка: 292823\n"
     ]
    }
   ],
   "source": [
    "import re\n",
    "\n",
    "for post in response['response']['items']:\n",
    "    text = post['text']\n",
    "    hashtags = re.findall(r'#\\w+', text)\n",
    "    for hashtag in hashtags:\n",
    "        if '#Skillbox_киноимузыка' in hashtag:\n",
    "            print(f'Пост с хэштегом #Skillbox_киноимузыка: {post[\"id\"]}')\n",
    "        if '#ДайджестПоЧетвергам' in hashtag:\n",
    "            print(f'Пост с хэштегом #ДайджестПоЧетвергам: {post[\"id\"]}')"
   ]
  },
  {
   "cell_type": "code",
   "execution_count": null,
   "metadata": {},
   "outputs": [],
   "source": []
  }
 ],
 "metadata": {
  "colab": {
   "provenance": []
  },
  "kernelspec": {
   "display_name": "Python 3 (ipykernel)",
   "language": "python",
   "name": "python3"
  },
  "language_info": {
   "codemirror_mode": {
    "name": "ipython",
    "version": 3
   },
   "file_extension": ".py",
   "mimetype": "text/x-python",
   "name": "python",
   "nbconvert_exporter": "python",
   "pygments_lexer": "ipython3",
   "version": "3.9.12"
  }
 },
 "nbformat": 4,
 "nbformat_minor": 4
}
